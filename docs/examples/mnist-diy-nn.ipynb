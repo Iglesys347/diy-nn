{
 "cells": [
  {
   "cell_type": "markdown",
   "metadata": {},
   "source": [
    "# diy-nn example usage with MNIST dataset"
   ]
  },
  {
   "cell_type": "markdown",
   "metadata": {},
   "source": [
    "## Imports"
   ]
  },
  {
   "cell_type": "code",
   "execution_count": 1,
   "metadata": {},
   "outputs": [],
   "source": [
    "import numpy as np\n",
    "from matplotlib import pyplot as plt\n",
    "from sklearn.utils import shuffle\n",
    "from sklearn.datasets import load_digits\n",
    "from sklearn.model_selection import train_test_split\n",
    "\n",
    "from diynn.diy_nn import DIYNN\n",
    "from diynn.utils import accuracy\n",
    "\n",
    "RANDOM_STATE = 69"
   ]
  },
  {
   "cell_type": "markdown",
   "metadata": {},
   "source": [
    "## MNIST dataset"
   ]
  },
  {
   "cell_type": "markdown",
   "metadata": {},
   "source": [
    "### Get the dataset"
   ]
  },
  {
   "cell_type": "code",
   "execution_count": 2,
   "metadata": {},
   "outputs": [
    {
     "data": {
      "text/plain": [
       "((1797, 64), (1797,))"
      ]
     },
     "execution_count": 2,
     "metadata": {},
     "output_type": "execute_result"
    }
   ],
   "source": [
    "digits = load_digits()\n",
    "X = digits.data\n",
    "y = digits.target\n",
    "\n",
    "X.shape, y.shape"
   ]
  },
  {
   "cell_type": "markdown",
   "metadata": {},
   "source": [
    "### Examples"
   ]
  },
  {
   "cell_type": "code",
   "execution_count": 3,
   "metadata": {},
   "outputs": [
    {
     "data": {
      "image/png": "[encoded data removed]",
      "text/plain": [
       "<Figure size 2000x2000 with 10 Axes>"
      ]
     },
     "metadata": {},
     "output_type": "display_data"
    }
   ],
   "source": [
    "fig, ax = plt.subplots(1, 10)\n",
    "fig.set_size_inches(20, 20)\n",
    "for i in range(10):\n",
    "    ax[i].imshow(digits.images[i])\n",
    "    ax[i].set_title(f\"Label: {i}\")"
   ]
  },
  {
   "cell_type": "markdown",
   "metadata": {},
   "source": [
    "### Shuffle the dataset"
   ]
  },
  {
   "cell_type": "code",
   "execution_count": 4,
   "metadata": {},
   "outputs": [],
   "source": [
    "X, y = shuffle(X, y, random_state=RANDOM_STATE)"
   ]
  },
  {
   "cell_type": "markdown",
   "metadata": {},
   "source": [
    "### Split the dataset"
   ]
  },
  {
   "cell_type": "code",
   "execution_count": 5,
   "metadata": {},
   "outputs": [],
   "source": [
    "X_train, X_test, y_train, y_test = train_test_split(X, y, test_size=0.2, random_state=RANDOM_STATE)"
   ]
  },
  {
   "cell_type": "markdown",
   "metadata": {},
   "source": [
    "### Transpose X\n",
    "\n",
    "Our model takes as input a matrix $X$ of shape $n\\times m$ where $n$ is the number of features and $m$ the number of observation ; our current $X$ matrix is of shape $m \\times n$, we must transpose it."
   ]
  },
  {
   "cell_type": "code",
   "execution_count": 6,
   "metadata": {},
   "outputs": [],
   "source": [
    "X_train, X_test = X_train.T, X_test.T"
   ]
  },
  {
   "cell_type": "code",
   "execution_count": 7,
   "metadata": {},
   "outputs": [
    {
     "data": {
      "text/plain": [
       "((64, 1437), (1437,))"
      ]
     },
     "execution_count": 7,
     "metadata": {},
     "output_type": "execute_result"
    }
   ],
   "source": [
    "X_train.shape, y_train.shape"
   ]
  },
  {
   "cell_type": "markdown",
   "metadata": {},
   "source": [
    "## DIY NN"
   ]
  },
  {
   "cell_type": "code",
   "execution_count": 8,
   "metadata": {},
   "outputs": [],
   "source": [
    "INPUT_LAYER_SIZE = X_train.shape[0]\n",
    "HIDDEN_LAYER_SIZE = 64 # this can be tunned\n",
    "OUTPUT_LAYER_SIZE = len(np.unique(y_train))\n",
    "\n",
    "nn = DIYNN(INPUT_LAYER_SIZE, HIDDEN_LAYER_SIZE, OUTPUT_LAYER_SIZE)"
   ]
  },
  {
   "cell_type": "markdown",
   "metadata": {},
   "source": [
    "### Train the model"
   ]
  },
  {
   "cell_type": "code",
   "execution_count": 9,
   "metadata": {},
   "outputs": [
    {
     "name": "stdout",
     "output_type": "stream",
     "text": [
      "Epoch:     0                             \n",
      "Accuracy:  0.0501                        \n",
      "\n",
      "Epoch:     10                            \n",
      "Accuracy:  0.5247                        \n",
      "\n",
      "Epoch:     20                            \n",
      "Accuracy:  0.6750                        \n",
      "\n",
      "Epoch:     30                            \n",
      "Accuracy:  0.7411                        \n",
      "\n",
      "Epoch:     40                            \n",
      "Accuracy:  0.9088                        \n",
      "\n",
      "Epoch:     50                            \n",
      "Accuracy:  0.9283                        \n",
      "\n",
      "Epoch:     60                            \n",
      "Accuracy:  0.9534                        \n",
      "\n",
      "Epoch:     70                            \n",
      "Accuracy:  0.9617                        \n",
      "\n",
      "Epoch:     80                            \n",
      "Accuracy:  0.9638                        \n",
      "\n",
      "Epoch:     90                            \n",
      "Accuracy:  0.9701                        \n",
      "\n"
     ]
    }
   ],
   "source": [
    "LEARNING_RATE = 0.1\n",
    "N_EPOCH = 100\n",
    "\n",
    "nn.train(X_train, y_train, learning_rate=LEARNING_RATE, n_iter=N_EPOCH, print_every=10)"
   ]
  },
  {
   "cell_type": "markdown",
   "metadata": {},
   "source": [
    "### Test the model"
   ]
  },
  {
   "cell_type": "code",
   "execution_count": 10,
   "metadata": {},
   "outputs": [
    {
     "data": {
      "text/plain": [
       "0.9222222222222223"
      ]
     },
     "execution_count": 10,
     "metadata": {},
     "output_type": "execute_result"
    }
   ],
   "source": [
    "preds = nn.predict(X_test)\n",
    "accuracy(preds, y_test)"
   ]
  },
  {
   "cell_type": "markdown",
   "metadata": {},
   "source": [
    "We reach 92% of accuracy which is pretty good."
   ]
  }
 ],
 "metadata": {
  "kernelspec": {
   "display_name": "Python 3.9.2 ('diy-nn-grTRdKLP')",
   "language": "python",
   "name": "python3"
  },
  "language_info": {
   "codemirror_mode": {
    "name": "ipython",
    "version": 3
   },
   "file_extension": ".py",
   "mimetype": "text/x-python",
   "name": "python",
   "nbconvert_exporter": "python",
   "pygments_lexer": "ipython3",
   "version": "3.9.2"
  },
  "orig_nbformat": 4,
  "vscode": {
   "interpreter": {
    "hash": "7fcbcdd2f1dcaa7ec12acc9a790dac228fd48a2be766a06d1cf9543a416555f2"
   }
  }
 },
 "nbformat": 4,
 "nbformat_minor": 2
}
